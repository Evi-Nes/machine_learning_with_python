{
 "cells": [
  {
   "cell_type": "code",
   "execution_count": null,
   "metadata": {
    "id": "8RZOuS9LWQvv"
   },
   "outputs": [],
   "source": [
    "# import libraries\n",
    "try:\n",
    "  # %tensorflow_version only exists in Colab.\n",
    "  !pip install tf-nightly\n",
    "except Exception:\n",
    "  pass\n",
    "import tensorflow as tf\n",
    "import pandas as pd\n",
    "from tensorflow import keras\n",
    "!pip install tensorflow-datasets\n",
    "import tensorflow_datasets as tfds\n",
    "import numpy as np\n",
    "import matplotlib.pyplot as plt\n",
    "\n",
    "import nltk\n",
    "nltk.download(\"popular\")\n",
    "from nltk.tokenize import word_tokenize\n",
    "from nltk.corpus import stopwords\n",
    "from nltk.stem import WordNetLemmatizer\n",
    "\n",
    "print(tf.__version__)"
   ]
  },
  {
   "cell_type": "code",
   "execution_count": null,
   "metadata": {
    "id": "lMHwYXHXCar3"
   },
   "outputs": [],
   "source": [
    "# get data files\n",
    "!wget https://cdn.freecodecamp.org/project-data/sms/train-data.tsv\n",
    "!wget https://cdn.freecodecamp.org/project-data/sms/valid-data.tsv\n",
    "\n",
    "train_file_path = \"train-data.tsv\"\n",
    "test_file_path = \"valid-data.tsv\""
   ]
  },
  {
   "cell_type": "code",
   "execution_count": null,
   "metadata": {
    "id": "g_h508FEClxO"
   },
   "outputs": [],
   "source": [
    "# pre-process data\n",
    "train_dataset = pd.read_csv(train_file_path, sep='\\t')\n",
    "train_dataset.columns = ['type', 'message']\n",
    "train_data, train_labels = train_dataset['message'], train_dataset['type']\n",
    "\n",
    "test_dataset = pd.read_csv(test_file_path, sep='\\t')\n",
    "test_dataset.columns = ['type', 'message']\n",
    "test_data, test_labels = test_dataset['message'], test_dataset['type']\n"
   ]
  },
  {
   "cell_type": "code",
   "execution_count": null,
   "metadata": {
    "id": "zOMKywn4zReN"
   },
   "outputs": [],
   "source": [
    "# split words and create dictionary\n",
    "spam_dict = {}\n",
    "ham_dict = {}\n",
    "\n",
    "def split_words(text):\n",
    "  tokens = word_tokenize(text)\n",
    "\n",
    "  chars = ['.', ',', '/', '?', '(', ')', '&', '*', '#', '..', '...', '-']\n",
    "  for i, token in enumerate(tokens):\n",
    "      if token in chars:\n",
    "          del tokens[i]\n",
    "  return tokens\n",
    "\n",
    "for item in range(len(train_data)-1):\n",
    "  text = train_data[item]\n",
    "  lemmatized_tokens = split_words(text)\n",
    "\n",
    "  if train_labels[item] == 'spam':\n",
    "    for i, word in enumerate(lemmatized_tokens):\n",
    "      spam_dict[word] = spam_dict.get(word, 0) + 1\n",
    "\n",
    "  else:\n",
    "    for i, word in enumerate(lemmatized_tokens):\n",
    "      ham_dict[word] = ham_dict.get(word, 0) + 1\n",
    "\n",
    "# for word, freq in spam_dict.items():\n",
    "#     print(f\"{word}: {freq}\")\n",
    "\n",
    "# for word, freq in ham_dict.items():\n",
    "#     print(f\"{word}: {freq}\")\n"
   ]
  },
  {
   "cell_type": "code",
   "execution_count": null,
   "metadata": {
    "id": "J9tD9yACG6M9"
   },
   "outputs": [],
   "source": [
    "# function to predict messages based on model\n",
    "# (should return list containing prediction and label, ex. [0.008318834938108921, 'ham'])\n",
    "\n",
    "def predict_message(pred_text):\n",
    "  spam_freq = 0\n",
    "  ham_freq = 0\n",
    "  tokens = split_words(pred_text)\n",
    "\n",
    "  for token in tokens:\n",
    "    if token in spam_dict:\n",
    "      spam_freq += spam_dict[token]\n",
    "      if token not in ham_dict:\n",
    "        spam_freq += spam_dict[token]*2\n",
    "    if token in ham_dict:\n",
    "      ham_freq += ham_dict[token]\n",
    "\n",
    "  total_freq = ham_freq + spam_freq\n",
    "  ham_freq = ham_freq/total_freq\n",
    "  # print('final ham freq: ', ham_freq)\n",
    "  spam_freq = spam_freq/total_freq\n",
    "  # print('final spam freq: ', spam_freq)\n",
    "\n",
    "  if spam_freq < 0.30:\n",
    "    prediction = [ham_freq, 'ham']\n",
    "  else:\n",
    "    prediction = [spam_freq, 'spam']\n",
    "\n",
    "  print(prediction)\n",
    "  return (prediction)\n",
    "\n",
    "pred_text = \"how are you doing today?\"\n",
    "\n",
    "prediction = predict_message(pred_text)\n"
   ]
  },
  {
   "cell_type": "code",
   "execution_count": null,
   "metadata": {
    "id": "Dxotov85SjsC"
   },
   "outputs": [],
   "source": [
    "# Run this cell to test your function and model. Do not modify contents.\n",
    "def test_predictions():\n",
    "  test_messages = [\"how are you doing today\",\n",
    "                   \"sale today! to stop texts call 98912460324\",\n",
    "                   \"i dont want to go. can we try it a different day? available sat\",\n",
    "                   \"our new mobile video service is live. just install on your phone to start watching.\",\n",
    "                   \"you have won £1000 cash! call to claim your prize.\",\n",
    "                   \"i'll bring it tomorrow. don't forget the milk.\",\n",
    "                   \"wow, is your arm alright. that happened to me one time too\"\n",
    "                  ]\n",
    "\n",
    "  test_answers = [\"ham\", \"spam\", \"ham\", \"spam\", \"spam\", \"ham\", \"ham\"]\n",
    "  passed = True\n",
    "\n",
    "  for msg, ans in zip(test_messages, test_answers):\n",
    "    prediction = predict_message(msg)\n",
    "    if prediction[1] != ans:\n",
    "      passed = False\n",
    "\n",
    "  if passed:\n",
    "    print(\"You passed the challenge. Great job!\")\n",
    "  else:\n",
    "    print(\"You haven't passed yet. Keep trying.\")\n",
    "\n",
    "test_predictions()\n"
   ]
  },
  {
   "cell_type": "code",
   "source": [],
   "metadata": {
    "id": "-Q4vLE2doFsf"
   },
   "execution_count": null,
   "outputs": []
  }
 ],
 "metadata": {
  "colab": {
   "private_outputs": true,
   "provenance": [],
   "toc_visible": true
  },
  "kernelspec": {
   "display_name": "Python 3",
   "name": "python3"
  },
  "language_info": {}
 },
 "nbformat": 4,
 "nbformat_minor": 0
}
